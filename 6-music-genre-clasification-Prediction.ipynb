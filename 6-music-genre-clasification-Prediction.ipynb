{
 "cells": [
  {
   "cell_type": "code",
   "execution_count": 15,
   "metadata": {},
   "outputs": [],
   "source": [
    "import librosa\n",
    "import numpy as np\n",
    "\n",
    "from keras.models import load_model"
   ]
  },
  {
   "cell_type": "markdown",
   "metadata": {},
   "source": [
    "Constants:"
   ]
  },
  {
   "cell_type": "code",
   "execution_count": 42,
   "metadata": {},
   "outputs": [],
   "source": [
    "%store -r data_test_location\n",
    "%store -r le"
   ]
  },
  {
   "cell_type": "markdown",
   "metadata": {},
   "source": [
    "Functions:"
   ]
  },
  {
   "cell_type": "code",
   "execution_count": 61,
   "metadata": {},
   "outputs": [],
   "source": [
    "def extract_mlp_features(file_name):\n",
    "   \n",
    "    try:\n",
    "        audio, sample_rate = librosa.load(file_name, res_type='kaiser_fast')\n",
    "        mfccs = librosa.feature.mfcc(y=audio, sr=sample_rate, n_mfcc=40)\n",
    "        mfccsscaled = np.mean(mfccs.T,axis=0)\n",
    "        \n",
    "    except Exception as e:\n",
    "        print(\"Error encountered while parsing file: \", file)\n",
    "        return None \n",
    "     \n",
    "    return mfccsscaled\n",
    "\n",
    "\n",
    "def extract_cnn_features(file_name):\n",
    "    max_pad_len = 1320\n",
    "    try:\n",
    "        audio, sample_rate = librosa.load(file_name, res_type='kaiser_fast') \n",
    "        mfccs = librosa.feature.mfcc(y=audio, sr=sample_rate, n_mfcc=40)\n",
    "        pad_width = max_pad_len - mfccs.shape[1]\n",
    "        mfccs = np.pad(mfccs, pad_width=((0, 0), (0, pad_width)), mode='constant')\n",
    "        \n",
    "    except Exception as e:\n",
    "        print(\"Error encountered while parsing file: \", file_name)\n",
    "        return None \n",
    "       \n",
    "    return mfccs\n",
    "\n",
    "def mlp_prediction(file_name, model):\n",
    "    prediction_feature = extract_mlp_features(data_test_location + file_name) \n",
    "\n",
    "    predicted_vector = model.predict_classes(np.array([prediction_feature]))\n",
    "    predicted_class = le.inverse_transform(predicted_vector) \n",
    "    print(\"The predicted class is:\", predicted_class[0], '\\n') \n",
    "\n",
    "    predicted_proba_vector = model.predict_proba(np.array([prediction_feature])) \n",
    "    predicted_proba = predicted_proba_vector[0]\n",
    "    for i in range(len(predicted_proba)): \n",
    "        category = le.inverse_transform(np.array([i]))\n",
    "        print(category[0], \"\\t\\t : \", format(predicted_proba[i], '.32f') )\n",
    "        \n",
    "def cnn_prediction(file_name, model):\n",
    "    num_rows = 40\n",
    "    num_columns = 1320\n",
    "    num_channels = 1\n",
    "\n",
    "    prediction_feature = extract_cnn_features(data_test_location + file_name) \n",
    "    prediction_feature = prediction_feature.reshape(1, num_rows, num_columns, num_channels)\n",
    "\n",
    "    predicted_vector = model.predict_classes(prediction_feature)\n",
    "    predicted_class = le.inverse_transform(predicted_vector) \n",
    "    print(\"The predicted class is:\", predicted_class[0], '\\n') \n",
    "\n",
    "    predicted_proba_vector = model.predict_proba(prediction_feature) \n",
    "    predicted_proba = predicted_proba_vector[0]\n",
    "    for i in range(len(predicted_proba)): \n",
    "        category = le.inverse_transform(np.array([i]))\n",
    "        print(category[0], \"\\t\\t : \", format(predicted_proba[i], '.32f') )"
   ]
  },
  {
   "cell_type": "markdown",
   "metadata": {},
   "source": [
    "# 7. Prediction\n",
    "\n",
    "In order to check model prediction we will select one sample of each genre. Each of these samples are unknown by the model as they belong to the test data."
   ]
  },
  {
   "cell_type": "markdown",
   "metadata": {},
   "source": [
    "Files to test:"
   ]
  },
  {
   "cell_type": "code",
   "execution_count": 51,
   "metadata": {},
   "outputs": [],
   "source": [
    "blues_file = 'blues.00013.au'\n",
    "classical_file = 'classical.00013.au'\n",
    "country_file = 'country.00013.au'\n",
    "disco_file = 'disco.00013.au'\n",
    "hiphop_file = 'hiphop.00013.au'\n",
    "jazz_file = 'jazz.00013.au'\n",
    "metal_file = 'metal.00013.au'\n",
    "pop_file = 'pop.00013.au'\n",
    "reggae_file = 'reggae.00013.au'\n",
    "rock_file = 'rock.00013.au'"
   ]
  },
  {
   "cell_type": "markdown",
   "metadata": {},
   "source": [
    "Load best models (all with data augmentation):"
   ]
  },
  {
   "cell_type": "code",
   "execution_count": 73,
   "metadata": {},
   "outputs": [],
   "source": [
    "mlp_aug_model = load_model('saved_models/mlpaug.hdf5')\n",
    "cnn_model = load_model('saved_models/conv8.hdf5')\n",
    "cnn_rnn_model = load_model('saved_models/convlstm.hdf5')"
   ]
  },
  {
   "cell_type": "markdown",
   "metadata": {},
   "source": [
    "Next we will see the prediction of each model:"
   ]
  },
  {
   "cell_type": "markdown",
   "metadata": {},
   "source": [
    "##### blues"
   ]
  },
  {
   "cell_type": "code",
   "execution_count": 46,
   "metadata": {},
   "outputs": [
    {
     "name": "stdout",
     "output_type": "stream",
     "text": [
      "The predicted class is: blues \n",
      "\n",
      "blues \t\t :  0.88386720418930053710937500000000\n",
      "classical \t\t :  0.00006101501276134513318538665771\n",
      "country \t\t :  0.05128767341375350952148437500000\n",
      "disco \t\t :  0.00035776072763837873935699462891\n",
      "hiphop \t\t :  0.00568964425474405288696289062500\n",
      "jazz \t\t :  0.01198428962379693984985351562500\n",
      "metal \t\t :  0.00000624987342234817333519458771\n",
      "pop \t\t :  0.00000324794996231503318995237350\n",
      "reggae \t\t :  0.03568933159112930297851562500000\n",
      "rock \t\t :  0.01105368230491876602172851562500\n"
     ]
    }
   ],
   "source": [
    "mlp_prediction('/blues/' + blues_file, mlp_aug_model)"
   ]
  },
  {
   "cell_type": "code",
   "execution_count": 74,
   "metadata": {},
   "outputs": [
    {
     "name": "stdout",
     "output_type": "stream",
     "text": [
      "The predicted class is: jazz \n",
      "\n",
      "blues \t\t :  0.05903784558176994323730468750000\n",
      "classical \t\t :  0.00813866779208183288574218750000\n",
      "country \t\t :  0.01774676702916622161865234375000\n",
      "disco \t\t :  0.00543176103383302688598632812500\n",
      "hiphop \t\t :  0.04549215734004974365234375000000\n",
      "jazz \t\t :  0.61560076475143432617187500000000\n",
      "metal \t\t :  0.00000197864505935285706073045731\n",
      "pop \t\t :  0.00560563756152987480163574218750\n",
      "reggae \t\t :  0.21663747727870941162109375000000\n",
      "rock \t\t :  0.02630700543522834777832031250000\n"
     ]
    }
   ],
   "source": [
    "cnn_prediction('/blues/' + blues_file, cnn_model)"
   ]
  },
  {
   "cell_type": "code",
   "execution_count": 63,
   "metadata": {},
   "outputs": [
    {
     "name": "stdout",
     "output_type": "stream",
     "text": [
      "The predicted class is: blues \n",
      "\n",
      "blues \t\t :  0.54193353652954101562500000000000\n",
      "classical \t\t :  0.00037578304181806743144989013672\n",
      "country \t\t :  0.11206670850515365600585937500000\n",
      "disco \t\t :  0.00121136161033064126968383789062\n",
      "hiphop \t\t :  0.00655090762302279472351074218750\n",
      "jazz \t\t :  0.26836898922920227050781250000000\n",
      "metal \t\t :  0.00041476634214632213115692138672\n",
      "pop \t\t :  0.00201451149769127368927001953125\n",
      "reggae \t\t :  0.03693907335400581359863281250000\n",
      "rock \t\t :  0.03012427687644958496093750000000\n"
     ]
    }
   ],
   "source": [
    "cnn_prediction('/blues/' + blues_file, cnn_rnn_model)"
   ]
  },
  {
   "cell_type": "markdown",
   "metadata": {},
   "source": [
    "##### classical"
   ]
  },
  {
   "cell_type": "code",
   "execution_count": 52,
   "metadata": {},
   "outputs": [
    {
     "name": "stdout",
     "output_type": "stream",
     "text": [
      "The predicted class is: classical \n",
      "\n",
      "blues \t\t :  0.01381094194948673248291015625000\n",
      "classical \t\t :  0.68364024162292480468750000000000\n",
      "country \t\t :  0.00687362300232052803039550781250\n",
      "disco \t\t :  0.00898617412894964218139648437500\n",
      "hiphop \t\t :  0.00365402782335877418518066406250\n",
      "jazz \t\t :  0.25482705235481262207031250000000\n",
      "metal \t\t :  0.00000415480553783709183335304260\n",
      "pop \t\t :  0.00974456686526536941528320312500\n",
      "reggae \t\t :  0.01365816872566938400268554687500\n",
      "rock \t\t :  0.00480096740648150444030761718750\n"
     ]
    }
   ],
   "source": [
    "mlp_prediction('/classical/' + classical_file, mlp_aug_model)"
   ]
  },
  {
   "cell_type": "code",
   "execution_count": 75,
   "metadata": {},
   "outputs": [
    {
     "name": "stdout",
     "output_type": "stream",
     "text": [
      "The predicted class is: classical \n",
      "\n",
      "blues \t\t :  0.00122362026013433933258056640625\n",
      "classical \t\t :  0.97200316190719604492187500000000\n",
      "country \t\t :  0.00100795726757496595382690429688\n",
      "disco \t\t :  0.00000275704996965941973030567169\n",
      "hiphop \t\t :  0.00000004401196918024652404710650\n",
      "jazz \t\t :  0.02572395093739032745361328125000\n",
      "metal \t\t :  0.00000000003917935420538753987785\n",
      "pop \t\t :  0.00000007734734452924385550431907\n",
      "reggae \t\t :  0.00002938879697467200458049774170\n",
      "rock \t\t :  0.00000886572797753615304827690125\n"
     ]
    }
   ],
   "source": [
    "cnn_prediction('/classical/' + classical_file, cnn_model)"
   ]
  },
  {
   "cell_type": "code",
   "execution_count": 64,
   "metadata": {},
   "outputs": [
    {
     "name": "stdout",
     "output_type": "stream",
     "text": [
      "The predicted class is: classical \n",
      "\n",
      "blues \t\t :  0.00108448101673275232315063476562\n",
      "classical \t\t :  0.77811980247497558593750000000000\n",
      "country \t\t :  0.00093979580560699105262756347656\n",
      "disco \t\t :  0.00094059784896671772003173828125\n",
      "hiphop \t\t :  0.00016938059707172214984893798828\n",
      "jazz \t\t :  0.21722513437271118164062500000000\n",
      "metal \t\t :  0.00000972117777564562857151031494\n",
      "pop \t\t :  0.00074730056803673505783081054688\n",
      "reggae \t\t :  0.00026417392655275762081146240234\n",
      "rock \t\t :  0.00049959804164245724678039550781\n"
     ]
    }
   ],
   "source": [
    "cnn_prediction('/classical/' + classical_file, cnn_rnn_model)"
   ]
  },
  {
   "cell_type": "markdown",
   "metadata": {},
   "source": [
    "##### country"
   ]
  },
  {
   "cell_type": "code",
   "execution_count": 53,
   "metadata": {},
   "outputs": [
    {
     "name": "stdout",
     "output_type": "stream",
     "text": [
      "The predicted class is: country \n",
      "\n",
      "blues \t\t :  0.10393717885017395019531250000000\n",
      "classical \t\t :  0.02254389598965644836425781250000\n",
      "country \t\t :  0.34748160839080810546875000000000\n",
      "disco \t\t :  0.06720368564128875732421875000000\n",
      "hiphop \t\t :  0.04841825738549232482910156250000\n",
      "jazz \t\t :  0.23102985322475433349609375000000\n",
      "metal \t\t :  0.00530099077150225639343261718750\n",
      "pop \t\t :  0.02087526768445968627929687500000\n",
      "reggae \t\t :  0.08126688748598098754882812500000\n",
      "rock \t\t :  0.07194227725267410278320312500000\n"
     ]
    }
   ],
   "source": [
    "mlp_prediction('/country/' + country_file, mlp_aug_model)"
   ]
  },
  {
   "cell_type": "code",
   "execution_count": 76,
   "metadata": {},
   "outputs": [
    {
     "name": "stdout",
     "output_type": "stream",
     "text": [
      "The predicted class is: jazz \n",
      "\n",
      "blues \t\t :  0.04020177572965621948242187500000\n",
      "classical \t\t :  0.01761830039322376251220703125000\n",
      "country \t\t :  0.04837712273001670837402343750000\n",
      "disco \t\t :  0.15898399055004119873046875000000\n",
      "hiphop \t\t :  0.04208046570420265197753906250000\n",
      "jazz \t\t :  0.30351987481117248535156250000000\n",
      "metal \t\t :  0.00197776686400175094604492187500\n",
      "pop \t\t :  0.21019899845123291015625000000000\n",
      "reggae \t\t :  0.06064438819885253906250000000000\n",
      "rock \t\t :  0.11639721691608428955078125000000\n"
     ]
    }
   ],
   "source": [
    "cnn_prediction('/country/' + country_file, cnn_model)"
   ]
  },
  {
   "cell_type": "code",
   "execution_count": 65,
   "metadata": {},
   "outputs": [
    {
     "name": "stdout",
     "output_type": "stream",
     "text": [
      "The predicted class is: pop \n",
      "\n",
      "blues \t\t :  0.00034451822284609079360961914062\n",
      "classical \t\t :  0.00024237645266111940145492553711\n",
      "country \t\t :  0.02111387811601161956787109375000\n",
      "disco \t\t :  0.03715767338871955871582031250000\n",
      "hiphop \t\t :  0.00074173772009089589118957519531\n",
      "jazz \t\t :  0.00528888450935482978820800781250\n",
      "metal \t\t :  0.00001237475589732639491558074951\n",
      "pop \t\t :  0.63609433174133300781250000000000\n",
      "reggae \t\t :  0.00344227277673780918121337890625\n",
      "rock \t\t :  0.29556190967559814453125000000000\n"
     ]
    }
   ],
   "source": [
    "cnn_prediction('/country/' + country_file, cnn_rnn_model)"
   ]
  },
  {
   "cell_type": "markdown",
   "metadata": {},
   "source": [
    "##### disco"
   ]
  },
  {
   "cell_type": "code",
   "execution_count": 54,
   "metadata": {},
   "outputs": [
    {
     "name": "stdout",
     "output_type": "stream",
     "text": [
      "The predicted class is: hiphop \n",
      "\n",
      "blues \t\t :  0.00190315733198076486587524414062\n",
      "classical \t\t :  0.00000388761463909759186208248138\n",
      "country \t\t :  0.00272653042338788509368896484375\n",
      "disco \t\t :  0.01539588812738656997680664062500\n",
      "hiphop \t\t :  0.95471930503845214843750000000000\n",
      "jazz \t\t :  0.00022787315538153052330017089844\n",
      "metal \t\t :  0.01195381581783294677734375000000\n",
      "pop \t\t :  0.00354110798798501491546630859375\n",
      "reggae \t\t :  0.00110863440204411745071411132812\n",
      "rock \t\t :  0.00841974932700395584106445312500\n"
     ]
    }
   ],
   "source": [
    "mlp_prediction('/disco/' + disco_file, mlp_aug_model)"
   ]
  },
  {
   "cell_type": "code",
   "execution_count": 77,
   "metadata": {},
   "outputs": [
    {
     "name": "stdout",
     "output_type": "stream",
     "text": [
      "The predicted class is: pop \n",
      "\n",
      "blues \t\t :  0.04199459776282310485839843750000\n",
      "classical \t\t :  0.00204343907535076141357421875000\n",
      "country \t\t :  0.08146973699331283569335937500000\n",
      "disco \t\t :  0.09613782167434692382812500000000\n",
      "hiphop \t\t :  0.17571377754211425781250000000000\n",
      "jazz \t\t :  0.03439985588192939758300781250000\n",
      "metal \t\t :  0.01464511826634407043457031250000\n",
      "pop \t\t :  0.39556476473808288574218750000000\n",
      "reggae \t\t :  0.06524942070245742797851562500000\n",
      "rock \t\t :  0.09278150647878646850585937500000\n"
     ]
    }
   ],
   "source": [
    "cnn_prediction('/disco/' + disco_file, cnn_model)"
   ]
  },
  {
   "cell_type": "code",
   "execution_count": 66,
   "metadata": {},
   "outputs": [
    {
     "name": "stdout",
     "output_type": "stream",
     "text": [
      "The predicted class is: pop \n",
      "\n",
      "blues \t\t :  0.00000438580536865629255771636963\n",
      "classical \t\t :  0.00001651749698794446885585784912\n",
      "country \t\t :  0.04447466880083084106445312500000\n",
      "disco \t\t :  0.26743203401565551757812500000000\n",
      "hiphop \t\t :  0.00134702271316200494766235351562\n",
      "jazz \t\t :  0.00295730796642601490020751953125\n",
      "metal \t\t :  0.00001035052082443144172430038452\n",
      "pop \t\t :  0.63465678691864013671875000000000\n",
      "reggae \t\t :  0.01440019067376852035522460937500\n",
      "rock \t\t :  0.03470073640346527099609375000000\n"
     ]
    }
   ],
   "source": [
    "cnn_prediction('/disco/' + disco_file, cnn_rnn_model)"
   ]
  },
  {
   "cell_type": "markdown",
   "metadata": {},
   "source": [
    "##### hiphop"
   ]
  },
  {
   "cell_type": "code",
   "execution_count": 55,
   "metadata": {},
   "outputs": [
    {
     "name": "stdout",
     "output_type": "stream",
     "text": [
      "The predicted class is: jazz \n",
      "\n",
      "blues \t\t :  0.08185309916734695434570312500000\n",
      "classical \t\t :  0.25789391994476318359375000000000\n",
      "country \t\t :  0.02353596501052379608154296875000\n",
      "disco \t\t :  0.03267081454396247863769531250000\n",
      "hiphop \t\t :  0.03222140669822692871093750000000\n",
      "jazz \t\t :  0.42340168356895446777343750000000\n",
      "metal \t\t :  0.00068980659125372767448425292969\n",
      "pop \t\t :  0.03900728002190589904785156250000\n",
      "reggae \t\t :  0.07733537256717681884765625000000\n",
      "rock \t\t :  0.03139071166515350341796875000000\n"
     ]
    }
   ],
   "source": [
    "mlp_prediction('/hiphop/' + hiphop_file, mlp_aug_model)"
   ]
  },
  {
   "cell_type": "code",
   "execution_count": 78,
   "metadata": {},
   "outputs": [
    {
     "name": "stdout",
     "output_type": "stream",
     "text": [
      "The predicted class is: country \n",
      "\n",
      "blues \t\t :  0.13809368014335632324218750000000\n",
      "classical \t\t :  0.00280526257120072841644287109375\n",
      "country \t\t :  0.39455085992813110351562500000000\n",
      "disco \t\t :  0.21108457446098327636718750000000\n",
      "hiphop \t\t :  0.02227699197828769683837890625000\n",
      "jazz \t\t :  0.03762247413396835327148437500000\n",
      "metal \t\t :  0.00003440745786065235733985900879\n",
      "pop \t\t :  0.01934672333300113677978515625000\n",
      "reggae \t\t :  0.05583970248699188232421875000000\n",
      "rock \t\t :  0.11834526062011718750000000000000\n"
     ]
    }
   ],
   "source": [
    "cnn_prediction('/hiphop/' + hiphop_file, cnn_model)"
   ]
  },
  {
   "cell_type": "code",
   "execution_count": 67,
   "metadata": {},
   "outputs": [
    {
     "name": "stdout",
     "output_type": "stream",
     "text": [
      "The predicted class is: hiphop \n",
      "\n",
      "blues \t\t :  0.09268976747989654541015625000000\n",
      "classical \t\t :  0.00003007529448950663208961486816\n",
      "country \t\t :  0.09352759271860122680664062500000\n",
      "disco \t\t :  0.09668378531932830810546875000000\n",
      "hiphop \t\t :  0.35681527853012084960937500000000\n",
      "jazz \t\t :  0.00192177668213844299316406250000\n",
      "metal \t\t :  0.00387143343687057495117187500000\n",
      "pop \t\t :  0.00488369306549429893493652343750\n",
      "reggae \t\t :  0.02060457505285739898681640625000\n",
      "rock \t\t :  0.32897204160690307617187500000000\n"
     ]
    }
   ],
   "source": [
    "cnn_prediction('/hiphop/' + hiphop_file, cnn_rnn_model)"
   ]
  },
  {
   "cell_type": "markdown",
   "metadata": {},
   "source": [
    "##### jazz"
   ]
  },
  {
   "cell_type": "code",
   "execution_count": 56,
   "metadata": {},
   "outputs": [
    {
     "name": "stdout",
     "output_type": "stream",
     "text": [
      "The predicted class is: jazz \n",
      "\n",
      "blues \t\t :  0.11520514637231826782226562500000\n",
      "classical \t\t :  0.00141063786577433347702026367188\n",
      "country \t\t :  0.37521347403526306152343750000000\n",
      "disco \t\t :  0.01176058594137430191040039062500\n",
      "hiphop \t\t :  0.02501068823039531707763671875000\n",
      "jazz \t\t :  0.42268800735473632812500000000000\n",
      "metal \t\t :  0.00041158273234032094478607177734\n",
      "pop \t\t :  0.00052266230341047048568725585938\n",
      "reggae \t\t :  0.03200962021946907043457031250000\n",
      "rock \t\t :  0.01576764509081840515136718750000\n"
     ]
    }
   ],
   "source": [
    "mlp_prediction('/jazz/' + jazz_file, mlp_aug_model)"
   ]
  },
  {
   "cell_type": "code",
   "execution_count": 83,
   "metadata": {},
   "outputs": [
    {
     "name": "stdout",
     "output_type": "stream",
     "text": [
      "The predicted class is: jazz \n",
      "\n",
      "blues \t\t :  0.07709154486656188964843750000000\n",
      "classical \t\t :  0.03298323601484298706054687500000\n",
      "country \t\t :  0.13157893717288970947265625000000\n",
      "disco \t\t :  0.23990809917449951171875000000000\n",
      "hiphop \t\t :  0.03501717746257781982421875000000\n",
      "jazz \t\t :  0.28508839011192321777343750000000\n",
      "metal \t\t :  0.00418367935344576835632324218750\n",
      "pop \t\t :  0.07797577977180480957031250000000\n",
      "reggae \t\t :  0.09912253171205520629882812500000\n",
      "rock \t\t :  0.01705053821206092834472656250000\n"
     ]
    }
   ],
   "source": [
    "cnn_prediction('/jazz/' + jazz_file, cnn_model)"
   ]
  },
  {
   "cell_type": "code",
   "execution_count": 68,
   "metadata": {},
   "outputs": [
    {
     "name": "stdout",
     "output_type": "stream",
     "text": [
      "The predicted class is: jazz \n",
      "\n",
      "blues \t\t :  0.03652914240956306457519531250000\n",
      "classical \t\t :  0.00294086313806474208831787109375\n",
      "country \t\t :  0.03841398283839225769042968750000\n",
      "disco \t\t :  0.03540306538343429565429687500000\n",
      "hiphop \t\t :  0.10459291934967041015625000000000\n",
      "jazz \t\t :  0.35045561194419860839843750000000\n",
      "metal \t\t :  0.00036823225673288106918334960938\n",
      "pop \t\t :  0.18470796942710876464843750000000\n",
      "reggae \t\t :  0.16320189833641052246093750000000\n",
      "rock \t\t :  0.08338639140129089355468750000000\n"
     ]
    }
   ],
   "source": [
    "cnn_prediction('/jazz/' + jazz_file, cnn_rnn_model)"
   ]
  },
  {
   "cell_type": "markdown",
   "metadata": {},
   "source": [
    "##### metal"
   ]
  },
  {
   "cell_type": "code",
   "execution_count": 57,
   "metadata": {},
   "outputs": [
    {
     "name": "stdout",
     "output_type": "stream",
     "text": [
      "The predicted class is: metal \n",
      "\n",
      "blues \t\t :  0.00000003851957330880395602434874\n",
      "classical \t\t :  0.00000000000001444289430890463577\n",
      "country \t\t :  0.00000000000008077724958106130559\n",
      "disco \t\t :  0.00000028554330810948158614337444\n",
      "hiphop \t\t :  0.00001230925408890470862388610840\n",
      "jazz \t\t :  0.00000000000000905497363559455010\n",
      "metal \t\t :  0.99998700618743896484375000000000\n",
      "pop \t\t :  0.00000000000000000011619071314878\n",
      "reggae \t\t :  0.00000000069656536094697685257415\n",
      "rock \t\t :  0.00000037682016795770323369652033\n"
     ]
    }
   ],
   "source": [
    "mlp_prediction('/metal/' + metal_file, mlp_aug_model)"
   ]
  },
  {
   "cell_type": "code",
   "execution_count": 79,
   "metadata": {},
   "outputs": [
    {
     "name": "stdout",
     "output_type": "stream",
     "text": [
      "The predicted class is: metal \n",
      "\n",
      "blues \t\t :  0.02929173037409782409667968750000\n",
      "classical \t\t :  0.00000000453844206660392046615016\n",
      "country \t\t :  0.01176308840513229370117187500000\n",
      "disco \t\t :  0.01006052922457456588745117187500\n",
      "hiphop \t\t :  0.05270311236381530761718750000000\n",
      "jazz \t\t :  0.00000115170848857815144583582878\n",
      "metal \t\t :  0.88371461629867553710937500000000\n",
      "pop \t\t :  0.00000323864901474735233932733536\n",
      "reggae \t\t :  0.00185161735862493515014648437500\n",
      "rock \t\t :  0.01061092782765626907348632812500\n"
     ]
    }
   ],
   "source": [
    "cnn_prediction('/metal/' + metal_file, cnn_model)"
   ]
  },
  {
   "cell_type": "code",
   "execution_count": 69,
   "metadata": {},
   "outputs": [
    {
     "name": "stdout",
     "output_type": "stream",
     "text": [
      "The predicted class is: metal \n",
      "\n",
      "blues \t\t :  0.00000000043147516115560335947521\n",
      "classical \t\t :  0.00000000002136477279812698526484\n",
      "country \t\t :  0.00000008714716415170187246985734\n",
      "disco \t\t :  0.00000000460387195033717944170348\n",
      "hiphop \t\t :  0.00000126046234072418883442878723\n",
      "jazz \t\t :  0.00000000014812678861275685449073\n",
      "metal \t\t :  0.99998199939727783203125000000000\n",
      "pop \t\t :  0.00000000708747105448992442688905\n",
      "reggae \t\t :  0.00000000011103646474497352869548\n",
      "rock \t\t :  0.00001671371683187317103147506714\n"
     ]
    }
   ],
   "source": [
    "cnn_prediction('/metal/' + metal_file, cnn_rnn_model)"
   ]
  },
  {
   "cell_type": "markdown",
   "metadata": {},
   "source": [
    "##### pop"
   ]
  },
  {
   "cell_type": "code",
   "execution_count": 58,
   "metadata": {},
   "outputs": [
    {
     "name": "stdout",
     "output_type": "stream",
     "text": [
      "The predicted class is: pop \n",
      "\n",
      "blues \t\t :  0.00009307666186941787600517272949\n",
      "classical \t\t :  0.00000054718879027859657071530819\n",
      "country \t\t :  0.00038068991852924227714538574219\n",
      "disco \t\t :  0.00446435576304793357849121093750\n",
      "hiphop \t\t :  0.10918483883142471313476562500000\n",
      "jazz \t\t :  0.00002771933577605523169040679932\n",
      "metal \t\t :  0.00000573040233575738966464996338\n",
      "pop \t\t :  0.84134936332702636718750000000000\n",
      "reggae \t\t :  0.04093313962221145629882812500000\n",
      "rock \t\t :  0.00356057449243962764739990234375\n"
     ]
    }
   ],
   "source": [
    "mlp_prediction('/pop/' + pop_file, mlp_aug_model)"
   ]
  },
  {
   "cell_type": "code",
   "execution_count": 80,
   "metadata": {},
   "outputs": [
    {
     "name": "stdout",
     "output_type": "stream",
     "text": [
      "The predicted class is: hiphop \n",
      "\n",
      "blues \t\t :  0.13233846426010131835937500000000\n",
      "classical \t\t :  0.00000006428984988815500400960445\n",
      "country \t\t :  0.00291972304694354534149169921875\n",
      "disco \t\t :  0.00259908032603561878204345703125\n",
      "hiphop \t\t :  0.51345807313919067382812500000000\n",
      "jazz \t\t :  0.00841803755611181259155273437500\n",
      "metal \t\t :  0.00000034318392749810300301760435\n",
      "pop \t\t :  0.01711881347000598907470703125000\n",
      "reggae \t\t :  0.31673905253410339355468750000000\n",
      "rock \t\t :  0.00640831142663955688476562500000\n"
     ]
    }
   ],
   "source": [
    "cnn_prediction('/pop/' + pop_file, cnn_model)"
   ]
  },
  {
   "cell_type": "code",
   "execution_count": 70,
   "metadata": {},
   "outputs": [
    {
     "name": "stdout",
     "output_type": "stream",
     "text": [
      "The predicted class is: reggae \n",
      "\n",
      "blues \t\t :  0.00129762303549796342849731445312\n",
      "classical \t\t :  0.00002180482442781794816255569458\n",
      "country \t\t :  0.01359805371612310409545898437500\n",
      "disco \t\t :  0.00727852759882807731628417968750\n",
      "hiphop \t\t :  0.12246204167604446411132812500000\n",
      "jazz \t\t :  0.00029230568907223641872406005859\n",
      "metal \t\t :  0.00006107149238232523202896118164\n",
      "pop \t\t :  0.35005161166191101074218750000000\n",
      "reggae \t\t :  0.47114914655685424804687500000000\n",
      "rock \t\t :  0.03378781676292419433593750000000\n"
     ]
    }
   ],
   "source": [
    "cnn_prediction('/pop/' + pop_file, cnn_rnn_model)"
   ]
  },
  {
   "cell_type": "markdown",
   "metadata": {},
   "source": [
    "##### reggae"
   ]
  },
  {
   "cell_type": "code",
   "execution_count": 59,
   "metadata": {},
   "outputs": [
    {
     "name": "stdout",
     "output_type": "stream",
     "text": [
      "The predicted class is: reggae \n",
      "\n",
      "blues \t\t :  0.04759334027767181396484375000000\n",
      "classical \t\t :  0.00087910122238099575042724609375\n",
      "country \t\t :  0.02058538608253002166748046875000\n",
      "disco \t\t :  0.04453230276703834533691406250000\n",
      "hiphop \t\t :  0.05703819543123245239257812500000\n",
      "jazz \t\t :  0.01894425787031650543212890625000\n",
      "metal \t\t :  0.00051275320583954453468322753906\n",
      "pop \t\t :  0.00911188777536153793334960937500\n",
      "reggae \t\t :  0.77413570880889892578125000000000\n",
      "rock \t\t :  0.02666709944605827331542968750000\n"
     ]
    }
   ],
   "source": [
    "mlp_prediction('/reggae/' + reggae_file, mlp_aug_model)"
   ]
  },
  {
   "cell_type": "code",
   "execution_count": 81,
   "metadata": {},
   "outputs": [
    {
     "name": "stdout",
     "output_type": "stream",
     "text": [
      "The predicted class is: reggae \n",
      "\n",
      "blues \t\t :  0.16020981967449188232421875000000\n",
      "classical \t\t :  0.00029753090348094701766967773438\n",
      "country \t\t :  0.00704207643866539001464843750000\n",
      "disco \t\t :  0.06570914387702941894531250000000\n",
      "hiphop \t\t :  0.19743987917900085449218750000000\n",
      "jazz \t\t :  0.00426963483914732933044433593750\n",
      "metal \t\t :  0.00395676027983427047729492187500\n",
      "pop \t\t :  0.02990868128836154937744140625000\n",
      "reggae \t\t :  0.52418434619903564453125000000000\n",
      "rock \t\t :  0.00698204571381211280822753906250\n"
     ]
    }
   ],
   "source": [
    "cnn_prediction('/reggae/' + reggae_file, cnn_model)"
   ]
  },
  {
   "cell_type": "code",
   "execution_count": 71,
   "metadata": {},
   "outputs": [
    {
     "name": "stdout",
     "output_type": "stream",
     "text": [
      "The predicted class is: reggae \n",
      "\n",
      "blues \t\t :  0.00055806658929213881492614746094\n",
      "classical \t\t :  0.00000054852790754011948592960835\n",
      "country \t\t :  0.00022326226462610065937042236328\n",
      "disco \t\t :  0.01338439155369997024536132812500\n",
      "hiphop \t\t :  0.07072131335735321044921875000000\n",
      "jazz \t\t :  0.00001713097299216315150260925293\n",
      "metal \t\t :  0.00002785716787911951541900634766\n",
      "pop \t\t :  0.00218051834963262081146240234375\n",
      "reggae \t\t :  0.91058355569839477539062500000000\n",
      "rock \t\t :  0.00230327202007174491882324218750\n"
     ]
    }
   ],
   "source": [
    "cnn_prediction('/reggae/' + reggae_file, cnn_rnn_model)"
   ]
  },
  {
   "cell_type": "markdown",
   "metadata": {},
   "source": [
    "##### rock"
   ]
  },
  {
   "cell_type": "code",
   "execution_count": 60,
   "metadata": {},
   "outputs": [
    {
     "name": "stdout",
     "output_type": "stream",
     "text": [
      "The predicted class is: blues \n",
      "\n",
      "blues \t\t :  0.59196275472640991210937500000000\n",
      "classical \t\t :  0.00020004500402137637138366699219\n",
      "country \t\t :  0.02765424549579620361328125000000\n",
      "disco \t\t :  0.04505868256092071533203125000000\n",
      "hiphop \t\t :  0.11354503780603408813476562500000\n",
      "jazz \t\t :  0.00100408657453954219818115234375\n",
      "metal \t\t :  0.00239909230731427669525146484375\n",
      "pop \t\t :  0.00423795031383633613586425781250\n",
      "reggae \t\t :  0.15370601415634155273437500000000\n",
      "rock \t\t :  0.06023211404681205749511718750000\n"
     ]
    }
   ],
   "source": [
    "mlp_prediction('/rock/' + rock_file, mlp_aug_model)"
   ]
  },
  {
   "cell_type": "code",
   "execution_count": 82,
   "metadata": {},
   "outputs": [
    {
     "name": "stdout",
     "output_type": "stream",
     "text": [
      "The predicted class is: reggae \n",
      "\n",
      "blues \t\t :  0.03574195131659507751464843750000\n",
      "classical \t\t :  0.00000451386176791856996715068817\n",
      "country \t\t :  0.00136370025575160980224609375000\n",
      "disco \t\t :  0.00730787683278322219848632812500\n",
      "hiphop \t\t :  0.18227329850196838378906250000000\n",
      "jazz \t\t :  0.01315074786543846130371093750000\n",
      "metal \t\t :  0.00000016676818859195918776094913\n",
      "pop \t\t :  0.01155746076256036758422851562500\n",
      "reggae \t\t :  0.74849253892898559570312500000000\n",
      "rock \t\t :  0.00010781067248899489641189575195\n"
     ]
    }
   ],
   "source": [
    "cnn_prediction('/rock/' + rock_file, cnn_model)"
   ]
  },
  {
   "cell_type": "code",
   "execution_count": 72,
   "metadata": {},
   "outputs": [
    {
     "name": "stdout",
     "output_type": "stream",
     "text": [
      "The predicted class is: hiphop \n",
      "\n",
      "blues \t\t :  0.00278955395333468914031982421875\n",
      "classical \t\t :  0.00000037732954183411493431776762\n",
      "country \t\t :  0.00064003927400335669517517089844\n",
      "disco \t\t :  0.00246266624890267848968505859375\n",
      "hiphop \t\t :  0.66951721906661987304687500000000\n",
      "jazz \t\t :  0.00041864265222102403640747070312\n",
      "metal \t\t :  0.00006193237641127780079841613770\n",
      "pop \t\t :  0.01043615490198135375976562500000\n",
      "reggae \t\t :  0.30934041738510131835937500000000\n",
      "rock \t\t :  0.00433303602039813995361328125000\n"
     ]
    }
   ],
   "source": [
    "cnn_prediction('/rock/' + rock_file, cnn_rnn_model)"
   ]
  },
  {
   "cell_type": "markdown",
   "metadata": {},
   "source": [
    "# Conclusion"
   ]
  },
  {
   "cell_type": "markdown",
   "metadata": {},
   "source": [
    "\n",
    "|   |Acc. Train | Acc. Test| Loss Train | Loss Test  |   \n",
    "|---|---|---|---|---|\n",
    "|MLP| 93% | 66% |  0.28 |     1.24 |\n",
    "|CNN|  99% |  59% |  0.003 |  3.15 |   \n",
    "|CNN + RNN| 99%  | 67%  | 0.004  |   2.88   |"
   ]
  },
  {
   "cell_type": "markdown",
   "metadata": {},
   "source": [
    "The best model seems to be the **MLP** although it has a low accuracy it has better loss than the rest for the validation data. Apart from that we have seen how the models have improved with data augmentation. Probably by adding more data we could even enhance what we have. Taking into account the results of the prediction we may see the following:\n",
    "\n",
    "##### MLP\n",
    "As we may see this model has problems when trying to classify **disco**, **hiphop** and **rock** genres.\n",
    "\n",
    "##### CNN\n",
    "\n",
    "This model is the worst on as it is not able to classify 6 out of 10 genres.\n",
    "\n",
    "##### CNN + RNN\n",
    "\n",
    "For this model it seems difficult to classify **country**, **disco**, **pop** and **rock**.\n"
   ]
  }
 ],
 "metadata": {
  "kernelspec": {
   "display_name": "Python 3",
   "language": "python",
   "name": "python3"
  },
  "language_info": {
   "codemirror_mode": {
    "name": "ipython",
    "version": 3
   },
   "file_extension": ".py",
   "mimetype": "text/x-python",
   "name": "python",
   "nbconvert_exporter": "python",
   "pygments_lexer": "ipython3",
   "version": "3.8.5"
  }
 },
 "nbformat": 4,
 "nbformat_minor": 4
}
